{
  "nbformat": 4,
  "nbformat_minor": 0,
  "metadata": {
    "colab": {
      "name": "CDS_python.ipynb",
      "provenance": [],
      "authorship_tag": "ABX9TyMpm9LKuFoZoAOH4yL94ZJw",
      "include_colab_link": true
    },
    "kernelspec": {
      "name": "python3",
      "display_name": "Python 3"
    },
    "language_info": {
      "name": "python"
    }
  },
  "cells": [
    {
      "cell_type": "markdown",
      "metadata": {
        "id": "view-in-github",
        "colab_type": "text"
      },
      "source": [
        "<a href=\"https://colab.research.google.com/github/stephenwalter2006/pythonclass/blob/main/CDS_python.ipynb\" target=\"_parent\"><img src=\"https://colab.research.google.com/assets/colab-badge.svg\" alt=\"Open In Colab\"/></a>"
      ]
    },
    {
      "cell_type": "code",
      "metadata": {
        "colab": {
          "base_uri": "https://localhost:8080/"
        },
        "id": "0Ynb04dBf0az",
        "outputId": "e578b20a-6bbd-4895-de38-b684f3471970"
      },
      "source": [
        "def findTotal(count , val):\n",
        "    maxVal = 0 \n",
        "    if count%val == 0 : \n",
        "        maxVal = count - val \n",
        "    else:\n",
        "        maxVal = count - (count%val)\n",
        "\n",
        "    endVal = maxVal/val\n",
        "\n",
        "    return val * ((endVal*(endVal+1))/2)\n",
        "\n",
        "def eulerProblemOne(count, *args):\n",
        "    total = 0 \n",
        "    argCount = len(args)\n",
        "    common = 1 \n",
        "\n",
        "    for x in range(argCount):\n",
        "        total += findTotal(count,args[x])\n",
        "        common *= args[x]\n",
        "\n",
        "    if common < count:\n",
        "        total -= findTotal(count, common)\n",
        "    return total\n",
        "    \n",
        "def eulerProblemTen(limit):\n",
        "    array = [True for i in range(limit +1)]\n",
        "    array[0] = False\n",
        "    array[1] = False\n",
        "    j = 2 \n",
        "    while(j*j < limit ):\n",
        "        if array[j] == True:\n",
        "            for k in range(j*j , limit +1 , j): \n",
        "                array[k] = False\n",
        "        j += 1\n",
        "    total = 0 \n",
        "    for num in range(2, limit+1):\n",
        "        if(array[num] == True):\n",
        "            total += num \n",
        "\n",
        "    return total\n",
        "    \n",
        "    \n",
        "\n",
        "print(eulerProblemOne(1000, 3 ,5))\n",
        "print(eulerProblemTen(2000000))\n"
      ],
      "execution_count": 2,
      "outputs": [
        {
          "output_type": "stream",
          "text": [
            "233168.0\n",
            "142913828922\n"
          ],
          "name": "stdout"
        }
      ]
    },
    {
      "cell_type": "code",
      "metadata": {
        "colab": {
          "base_uri": "https://localhost:8080/"
        },
        "id": "_xXYAcgjYZ54",
        "outputId": "6bbd7129-3656-4d93-a1b7-568c86565f10"
      },
      "source": [
        "limit = 1000\n",
        "def select(n : int)->bool:\n",
        "    return n%3==0 or n%5==0\n",
        "\n",
        "select(11)"
      ],
      "execution_count": 5,
      "outputs": [
        {
          "output_type": "execute_result",
          "data": {
            "text/plain": [
              "False"
            ]
          },
          "metadata": {
            "tags": []
          },
          "execution_count": 5
        }
      ]
    },
    {
      "cell_type": "code",
      "metadata": {
        "colab": {
          "base_uri": "https://localhost:8080/"
        },
        "id": "_Smv6kspbb2O",
        "outputId": "848bde2f-761b-4ebc-afe4-d4b1241c63b6"
      },
      "source": [
        "limit = 1000\n",
        "print(sum(range(3,limit,3)) + sum(range(5, limit, 5)) - sum(range(15, limit, 15)))"
      ],
      "execution_count": 8,
      "outputs": [
        {
          "output_type": "stream",
          "text": [
            "233168\n"
          ],
          "name": "stdout"
        }
      ]
    },
    {
      "cell_type": "code",
      "metadata": {
        "colab": {
          "base_uri": "https://localhost:8080/"
        },
        "id": "Qs1jopq2cKA8",
        "outputId": "a11ac933-2f55-48cb-ecc1-b838d1f6ad10"
      },
      "source": [
        "limit = 1000\n",
        "print(sum(set(range(3,limit,3)) | set(range(5, limit , 5))))"
      ],
      "execution_count": 9,
      "outputs": [
        {
          "output_type": "stream",
          "text": [
            "233168\n"
          ],
          "name": "stdout"
        }
      ]
    },
    {
      "cell_type": "code",
      "metadata": {
        "colab": {
          "base_uri": "https://localhost:8080/"
        },
        "id": "wIVomRwDd_Mh",
        "outputId": "fabe3776-061f-484e-b3ff-5c7b3d39eb58"
      },
      "source": [
        "sum([x for x in range(1,limit) if select(x)])"
      ],
      "execution_count": 15,
      "outputs": [
        {
          "output_type": "execute_result",
          "data": {
            "text/plain": [
              "233168"
            ]
          },
          "metadata": {
            "tags": []
          },
          "execution_count": 15
        }
      ]
    },
    {
      "cell_type": "code",
      "metadata": {
        "colab": {
          "base_uri": "https://localhost:8080/"
        },
        "id": "--wbNDRZhVpC",
        "outputId": "966e945f-6fb4-4f0d-cfd7-92a243f346b2"
      },
      "source": [
        "sum(filter(select,range(1,limit)))"
      ],
      "execution_count": 16,
      "outputs": [
        {
          "output_type": "execute_result",
          "data": {
            "text/plain": [
              "233168"
            ]
          },
          "metadata": {
            "tags": []
          },
          "execution_count": 16
        }
      ]
    },
    {
      "cell_type": "code",
      "metadata": {
        "id": "ayTT72saivgi"
      },
      "source": [
        "def factorize(n : int) ->[int]:\n",
        "    factors = []\n",
        "    while n%2 ==0:\n",
        "        factors.append(2)\n",
        "        n//=2\n",
        "    factor = 3\n",
        "    while n > 1:\n",
        "        while n % factor == 0:\n",
        "            factors.append(factor)\n",
        "            n //= factor\n",
        "        factor += 2\n",
        "    return factors\n",
        "    \n",
        "    "
      ],
      "execution_count": 32,
      "outputs": []
    },
    {
      "cell_type": "code",
      "metadata": {
        "colab": {
          "base_uri": "https://localhost:8080/"
        },
        "id": "1alC5UAPizmD",
        "outputId": "2de8436a-fbdf-4ce7-df09-e85500807a6d"
      },
      "source": [
        "factorize(600851475143)"
      ],
      "execution_count": 28,
      "outputs": [
        {
          "output_type": "execute_result",
          "data": {
            "text/plain": [
              "[71, 839, 1471, 6857]"
            ]
          },
          "metadata": {
            "tags": []
          },
          "execution_count": 28
        }
      ]
    },
    {
      "cell_type": "code",
      "metadata": {
        "colab": {
          "base_uri": "https://localhost:8080/"
        },
        "id": "IIbqP9Sj1H5T",
        "outputId": "11c83089-e0ee-498b-a399-ec8f19e4a317"
      },
      "source": [
        "max(factorize(600851475143))"
      ],
      "execution_count": 33,
      "outputs": [
        {
          "output_type": "execute_result",
          "data": {
            "text/plain": [
              "6857"
            ]
          },
          "metadata": {
            "tags": []
          },
          "execution_count": 33
        }
      ]
    }
  ]
}